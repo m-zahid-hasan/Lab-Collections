{
 "cells": [
  {
   "cell_type": "code",
   "execution_count": 1,
   "id": "b1c25212-8f38-4e73-a2cd-e62b4c4757e4",
   "metadata": {},
   "outputs": [
    {
     "name": "stdout",
     "output_type": "stream",
     "text": [
      "WARNING:tensorflow:From C:\\Users\\ASUS\\AppData\\Roaming\\Python\\Python311\\site-packages\\keras\\src\\losses.py:2976: The name tf.losses.sparse_softmax_cross_entropy is deprecated. Please use tf.compat.v1.losses.sparse_softmax_cross_entropy instead.\n",
      "\n"
     ]
    }
   ],
   "source": [
    "import tensorflow as tf\n",
    "import numpy as np\n",
    "import matplotlib.pyplot as plt\n",
    "from tensorflow.keras.models import Model\n",
    "from tensorflow.keras.datasets.mnist import load_data\n",
    "from tensorflow.keras.utils import to_categorical\n",
    "from tensorflow.keras.layers import Input,Dense,Conv2D,MaxPooling2D,Flatten\n",
    "from tensorflow.keras.preprocessing.image import ImageDataGenerator\n",
    "from tensorflow.keras.callbacks import EarlyStopping\n",
    "from sklearn.model_selection import train_test_split\n",
    "from tensorflow.keras.applications.vgg16 import VGG16\n"
   ]
  },
  {
   "cell_type": "code",
   "execution_count": 2,
   "id": "291da3e8-46ce-4dfa-afd9-0dc92778fa68",
   "metadata": {},
   "outputs": [],
   "source": [
    "(X_train,Y_train),(X_test,Y_test) = load_data()"
   ]
  },
  {
   "cell_type": "code",
   "execution_count": 3,
   "id": "e42415cb-8243-49fc-ac7f-a0dbc1fa9b80",
   "metadata": {},
   "outputs": [
    {
     "data": {
      "text/plain": [
       "60000"
      ]
     },
     "execution_count": 3,
     "metadata": {},
     "output_type": "execute_result"
    }
   ],
   "source": [
    "len(X_train)"
   ]
  },
  {
   "cell_type": "code",
   "execution_count": 4,
   "id": "436119c4-efa3-4f28-ad82-afa23537c8a0",
   "metadata": {},
   "outputs": [],
   "source": [
    "X_train, X_val, Y_train, Y_val = train_test_split(X_train,Y_train, test_size = 0.16666, random_state = 42)\n"
   ]
  },
  {
   "cell_type": "code",
   "execution_count": 13,
   "id": "900cd306-dce5-4eeb-80b8-308987738272",
   "metadata": {},
   "outputs": [
    {
     "data": {
      "text/plain": [
       "50000"
      ]
     },
     "execution_count": 13,
     "metadata": {},
     "output_type": "execute_result"
    }
   ],
   "source": [
    "len(X_train)"
   ]
  },
  {
   "cell_type": "markdown",
   "id": "c05421cc-af61-44fa-8c5f-6074b7a14257",
   "metadata": {},
   "source": [
    "# Define Model"
   ]
  },
  {
   "cell_type": "code",
   "execution_count": 26,
   "id": "65f6150c-e6d9-4b19-878b-b629122a3bac",
   "metadata": {},
   "outputs": [],
   "source": [
    "def create_model():\n",
    "    vgg16_model = VGG16(weights = 'imagenet', include_top= False, input_shape= (32,32,3))\n",
    "    vgg16_model.trainable = False\n",
    "    inputs = vgg16_model.input\n",
    "    outputs = vgg16_model.output\n",
    "    x = Flatten()(outputs)\n",
    "    x =Dense(512,activation = 'relu')(x)\n",
    "    outputs =Dense(10, activation ='softmax')(x)\n",
    "\n",
    "    model = Model(inputs,outputs)\n",
    "    return model\n",
    "    \n",
    "    \n",
    "    "
   ]
  },
  {
   "cell_type": "code",
   "execution_count": 27,
   "id": "b5ce8c66-a463-4d5e-b3b0-c71810edba2d",
   "metadata": {},
   "outputs": [],
   "source": [
    "model_1 =create_model()\n"
   ]
  },
  {
   "cell_type": "code",
   "execution_count": 28,
   "id": "c9261b55-0240-46e5-83b3-c4ad049fccbe",
   "metadata": {},
   "outputs": [
    {
     "name": "stdout",
     "output_type": "stream",
     "text": [
      "Model: \"model\"\n",
      "____________________________________________________________________________\n",
      " Layer (type)                Output Shape              Param #   Trainable  \n",
      "============================================================================\n",
      " input_3 (InputLayer)        [(None, 32, 32, 3)]       0         N          \n",
      "                                                                            \n",
      " block1_conv1 (Conv2D)       (None, 32, 32, 64)        1792      N          \n",
      "                                                                            \n",
      " block1_conv2 (Conv2D)       (None, 32, 32, 64)        36928     N          \n",
      "                                                                            \n",
      " block1_pool (MaxPooling2D)  (None, 16, 16, 64)        0         N          \n",
      "                                                                            \n",
      " block2_conv1 (Conv2D)       (None, 16, 16, 128)       73856     N          \n",
      "                                                                            \n",
      " block2_conv2 (Conv2D)       (None, 16, 16, 128)       147584    N          \n",
      "                                                                            \n",
      " block2_pool (MaxPooling2D)  (None, 8, 8, 128)         0         N          \n",
      "                                                                            \n",
      " block3_conv1 (Conv2D)       (None, 8, 8, 256)         295168    N          \n",
      "                                                                            \n",
      " block3_conv2 (Conv2D)       (None, 8, 8, 256)         590080    N          \n",
      "                                                                            \n",
      " block3_conv3 (Conv2D)       (None, 8, 8, 256)         590080    N          \n",
      "                                                                            \n",
      " block3_pool (MaxPooling2D)  (None, 4, 4, 256)         0         N          \n",
      "                                                                            \n",
      " block4_conv1 (Conv2D)       (None, 4, 4, 512)         1180160   N          \n",
      "                                                                            \n",
      " block4_conv2 (Conv2D)       (None, 4, 4, 512)         2359808   N          \n",
      "                                                                            \n",
      " block4_conv3 (Conv2D)       (None, 4, 4, 512)         2359808   N          \n",
      "                                                                            \n",
      " block4_pool (MaxPooling2D)  (None, 2, 2, 512)         0         N          \n",
      "                                                                            \n",
      " block5_conv1 (Conv2D)       (None, 2, 2, 512)         2359808   N          \n",
      "                                                                            \n",
      " block5_conv2 (Conv2D)       (None, 2, 2, 512)         2359808   N          \n",
      "                                                                            \n",
      " block5_conv3 (Conv2D)       (None, 2, 2, 512)         2359808   N          \n",
      "                                                                            \n",
      " block5_pool (MaxPooling2D)  (None, 1, 1, 512)         0         N          \n",
      "                                                                            \n",
      " flatten_2 (Flatten)         (None, 512)               0         Y          \n",
      "                                                                            \n",
      " dense (Dense)               (None, 512)               262656    Y          \n",
      "                                                                            \n",
      " dense_1 (Dense)             (None, 10)                5130      Y          \n",
      "                                                                            \n",
      "============================================================================\n",
      "Total params: 14982474 (57.15 MB)\n",
      "Trainable params: 267786 (1.02 MB)\n",
      "Non-trainable params: 14714688 (56.13 MB)\n",
      "____________________________________________________________________________\n"
     ]
    }
   ],
   "source": [
    "model_1.summary(show_trainable = True)\n"
   ]
  },
  {
   "cell_type": "code",
   "execution_count": 35,
   "id": "caa15589-799d-43dd-ac25-3af4f0c8871b",
   "metadata": {},
   "outputs": [
    {
     "name": "stdout",
     "output_type": "stream",
     "text": [
      "(50000, 32, 32, 3)\n",
      "(10000, 32, 32, 3)\n",
      "(10000, 32, 32, 3)\n"
     ]
    }
   ],
   "source": [
    "from tensorflow.keras.preprocessing.image import ImageDataGenerator, img_to_array, array_to_img\n",
    "x_train = tf.expand_dims(X_train, axis=-1)\n",
    "x_test = tf.expand_dims(X_test, axis=-1)\n",
    "x_val  = tf.expand_dims(X_val, axis = -1)\n",
    "\n",
    "x_train = tf.image.grayscale_to_rgb(x_train)\n",
    "x_test = tf.image.grayscale_to_rgb(x_test)\n",
    "x_val  = tf.image.grayscale_to_rgb(x_val)\n",
    "\n",
    "x_train = tf.image.resize(x_train, [32, 32])\n",
    "x_test = tf.image.resize(x_test, [32, 32])\n",
    "x_val  =tf.image.resize(x_val,[32,32])\n",
    "print(x_train.shape)\n",
    "print(x_test.shape)\n",
    "print(x_val.shape)"
   ]
  },
  {
   "cell_type": "code",
   "execution_count": 38,
   "id": "ade07e0a-9e98-4cd0-81d1-e9a50d3a440c",
   "metadata": {},
   "outputs": [],
   "source": [
    "x_train = x_train/255.0\n",
    "x_test  = x_test/255.0\n",
    "x_val   = x_val/255.0"
   ]
  },
  {
   "cell_type": "code",
   "execution_count": 39,
   "id": "170aba59-c402-4505-a898-be17fcda277e",
   "metadata": {},
   "outputs": [],
   "source": [
    "y_train = to_categorical(Y_train,10)\n",
    "y_test  = to_categorical(Y_test,10)\n",
    "y_val   = to_categorical(Y_val,10)"
   ]
  },
  {
   "cell_type": "code",
   "execution_count": 40,
   "id": "adbcedd9-4d49-4218-818f-b67e56133d67",
   "metadata": {},
   "outputs": [
    {
     "name": "stdout",
     "output_type": "stream",
     "text": [
      "WARNING:tensorflow:From C:\\Users\\ASUS\\AppData\\Roaming\\Python\\Python311\\site-packages\\keras\\src\\optimizers\\__init__.py:309: The name tf.train.Optimizer is deprecated. Please use tf.compat.v1.train.Optimizer instead.\n",
      "\n"
     ]
    }
   ],
   "source": [
    "model_1.compile(loss = 'categorical_crossentropy',optimizer ='adam',metrics =['accuracy'])"
   ]
  },
  {
   "cell_type": "code",
   "execution_count": null,
   "id": "38f4c102-ce0e-4895-b50a-bf46e5029cdc",
   "metadata": {},
   "outputs": [
    {
     "name": "stdout",
     "output_type": "stream",
     "text": [
      "Epoch 1/10\n",
      "WARNING:tensorflow:From C:\\Users\\ASUS\\AppData\\Roaming\\Python\\Python311\\site-packages\\keras\\src\\utils\\tf_utils.py:492: The name tf.ragged.RaggedTensorValue is deprecated. Please use tf.compat.v1.ragged.RaggedTensorValue instead.\n",
      "\n",
      "WARNING:tensorflow:From C:\\Users\\ASUS\\AppData\\Roaming\\Python\\Python311\\site-packages\\keras\\src\\engine\\base_layer_utils.py:384: The name tf.executing_eagerly_outside_functions is deprecated. Please use tf.compat.v1.executing_eagerly_outside_functions instead.\n",
      "\n",
      "1563/1563 [==============================] - 413s 262ms/step - loss: 0.2837 - accuracy: 0.9142 - val_loss: 0.2083 - val_accuracy: 0.9280\n",
      "Epoch 2/10\n",
      "1563/1563 [==============================] - 384s 246ms/step - loss: 0.1380 - accuracy: 0.9554 - val_loss: 0.1763 - val_accuracy: 0.9430\n",
      "Epoch 3/10\n",
      "1563/1563 [==============================] - 359s 230ms/step - loss: 0.1160 - accuracy: 0.9618 - val_loss: 0.1206 - val_accuracy: 0.9614\n",
      "Epoch 4/10\n",
      "1563/1563 [==============================] - 357s 228ms/step - loss: 0.1017 - accuracy: 0.9669 - val_loss: 0.1066 - val_accuracy: 0.9659\n",
      "Epoch 5/10\n",
      "1563/1563 [==============================] - 356s 228ms/step - loss: 0.0917 - accuracy: 0.9698 - val_loss: 0.1091 - val_accuracy: 0.9643\n",
      "Epoch 6/10\n",
      "1563/1563 [==============================] - ETA: 0s - loss: 0.0849 - accuracy: 0.9718"
     ]
    }
   ],
   "source": [
    "history_1 = model_1.fit(x_train, y_train, validation_data =(x_val,y_val),epochs = 10)"
   ]
  },
  {
   "cell_type": "markdown",
   "id": "7b0c8669-fb10-438f-bfb0-8f3288dcb725",
   "metadata": {},
   "source": [
    "# Define data augmentation"
   ]
  },
  {
   "cell_type": "code",
   "execution_count": null,
   "id": "30233c52-be33-49bf-9b88-f0516618971d",
   "metadata": {},
   "outputs": [],
   "source": [
    "def augmentation(X,Y):\n",
    "    datagen = ImageDataGenerator(\n",
    "        rotation_range = 40,\n",
    "        shear_range = 0.2,\n",
    "        zoom_range = .2,\n",
    "        width_shift_range=0.15,\n",
    "        height_shift_range=0.15\n",
    "    )\n",
    "\n",
    "    augmented_images = []\n",
    "    augmented_labels = []\n",
    "\n",
    "    batch_size = len(X)\n",
    "    generator = datagen.flow(X,Y,batch_size = batch_size)\n",
    "    images ,labels = next(generator)\n",
    "    \n",
    "    augmented_images.extend(images)\n",
    "    augmented_labels.extend(labels)\n",
    "\n",
    "    augmented_images = np.array(augmented_images)\n",
    "    augmented_labels = np.array(augmented_labels)\n",
    "\n",
    "    \n",
    "    x_combined = np.concatenate((X,augmented_images))\n",
    "    y_combined = np.concatenate((Y,augmented_labels))\n",
    "    return (x_combined,y_combined)\n",
    "    \n",
    "    "
   ]
  },
  {
   "cell_type": "code",
   "execution_count": null,
   "id": "5e6df04c-dda2-4e27-8e82-019eb48697ca",
   "metadata": {},
   "outputs": [],
   "source": [
    "(x_train_augmented, y_train_augmented) = augmentation(x_train,y_train)\n",
    "(x_test_augmented, y_test_augmented) =augmentation(x_test,y_test)\n",
    "\n"
   ]
  },
  {
   "cell_type": "code",
   "execution_count": null,
   "id": "55874be7-cab3-494b-ac9c-fd77e0d4c587",
   "metadata": {},
   "outputs": [],
   "source": [
    "len(y_test_augmented)"
   ]
  },
  {
   "cell_type": "markdown",
   "id": "b246b524-cdaf-4efa-b16e-c5b3caa59629",
   "metadata": {},
   "source": [
    "# Create model using augmented dataset"
   ]
  },
  {
   "cell_type": "code",
   "execution_count": null,
   "id": "b0cd60b9-9f48-4d79-9e5f-e0cfec735379",
   "metadata": {},
   "outputs": [],
   "source": [
    "augmented_model = create_model()\n",
    "augmented_model.summary()"
   ]
  },
  {
   "cell_type": "markdown",
   "id": "e6c8853f-1308-47c7-a6f1-821ba73ba01f",
   "metadata": {},
   "source": [
    "# Compile and fit the model"
   ]
  },
  {
   "cell_type": "code",
   "execution_count": null,
   "id": "5416d0cf-0eac-4fc9-8dd1-28d653ce067d",
   "metadata": {},
   "outputs": [],
   "source": [
    "augmented_model.compile(loss = 'categorical_crossentropy', optimizer ='adam', metrics = ['accuracy'])\n",
    "history2 = augmented_model.fit(x_train_augmented, y_train_augmented, validation_data =(X_val,Y_val), epochs = 10)"
   ]
  },
  {
   "cell_type": "code",
   "execution_count": null,
   "id": "af4763ee-1e99-4dc2-9304-b294421e1301",
   "metadata": {},
   "outputs": [],
   "source": [
    "test_acc1 = model.evaluate(x_test, x_test)\n",
    "test_acc2 = model.evaluate(x_test_augmented,y_test_augmented)"
   ]
  },
  {
   "cell_type": "code",
   "execution_count": null,
   "id": "9bfafd38-3e52-4186-b609-66e3da7d2bae",
   "metadata": {},
   "outputs": [],
   "source": [
    "test_acc2 = augmented_model.evaluate(X_test,Y_test)\n",
    "test_acc3 = augmented_model.evaluate(x_test_augmented,y_test_augmented)\n"
   ]
  },
  {
   "cell_type": "markdown",
   "id": "fe75bffc-34dc-4d85-aa2d-8a3ca4f9b31e",
   "metadata": {},
   "source": [
    "#  Ploting accuracy and lost model_1"
   ]
  },
  {
   "cell_type": "code",
   "execution_count": null,
   "id": "58e45452-31ce-46a2-9873-2398f4b3c046",
   "metadata": {},
   "outputs": [],
   "source": [
    "history = history_1.history\n",
    "plt.figure(figsize = (12,4))\n",
    "plt.subplot(1,2,1)\n",
    "plt.plot(history['accuracy'])\n",
    "plt.plot(history['val_accuracy'])\n",
    "plt.xlabel('Epochs')\n",
    "plt.ylabel('Accuracy')\n",
    "plt.legend(['train_accuracy','validation_accuracy'])\n",
    "\n",
    "plt.subplot(1,2,2)\n",
    "plt.plot(history['loss'])\n",
    "plt.plot(history['val_loss'])\n",
    "plt.legend(['training_loss','validation_loss'])\n",
    "plt.show()"
   ]
  },
  {
   "cell_type": "markdown",
   "id": "21e91e8a-a6b2-44a6-bee9-21f0812a5960",
   "metadata": {},
   "source": [
    "# Ploting accuracy and loss augmented model"
   ]
  },
  {
   "cell_type": "code",
   "execution_count": null,
   "id": "8d89f304-497b-4203-acbe-7adb792d475f",
   "metadata": {},
   "outputs": [],
   "source": [
    "history = history2.history\n",
    "plt.figure(figsize = (12,4))\n",
    "plt.subplot(1,2,1)\n",
    "plt.plot(history['accuracy'])\n",
    "plt.plot(history['val_accuracy'])\n",
    "plt.xlabel('Epochs')\n",
    "plt.ylabel('Accuracy')\n",
    "plt.legend(['train_accuracy','validation_accuracy'])\n",
    "\n",
    "plt.subplot(1,2,2)\n",
    "plt.plot(history['loss'])\n",
    "plt.plot(history['val_loss'])\n",
    "plt.legend(['training_loss','validation_loss'])\n",
    "plt.show()"
   ]
  }
 ],
 "metadata": {
  "kernelspec": {
   "display_name": "Python 3 (ipykernel)",
   "language": "python",
   "name": "python3"
  },
  "language_info": {
   "codemirror_mode": {
    "name": "ipython",
    "version": 3
   },
   "file_extension": ".py",
   "mimetype": "text/x-python",
   "name": "python",
   "nbconvert_exporter": "python",
   "pygments_lexer": "ipython3",
   "version": "3.11.8"
  }
 },
 "nbformat": 4,
 "nbformat_minor": 5
}
