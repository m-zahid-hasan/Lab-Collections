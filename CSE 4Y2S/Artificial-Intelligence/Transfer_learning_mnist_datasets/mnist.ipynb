{
 "cells": [
  {
   "cell_type": "markdown",
   "id": "81ededb4-b222-4cb6-bb53-8066196556f5",
   "metadata": {},
   "source": [
    "# import necessary modules"
   ]
  },
  {
   "cell_type": "code",
   "execution_count": 151,
   "id": "2f4d7f4d-7111-4bdb-b6bc-886f5614d75e",
   "metadata": {},
   "outputs": [],
   "source": [
    "import tensorflow as tf\n",
    "import numpy as np\n",
    "import matplotlib.pyplot as plt\n",
    "from tensorflow.keras.models import Model\n",
    "from tensorflow.keras.datasets.mnist import load_data\n",
    "from tensorflow.keras.utils import to_categorical\n",
    "from tensorflow.keras.layers import Input,Dense,Conv2D,MaxPooling2D,Flatten\n",
    "from tensorflow.keras.preprocessing.image import ImageDataGenerator\n",
    "from tensorflow.keras.callbacks import EarlyStopping\n",
    "from sklearn.model_selection import train_test_split"
   ]
  },
  {
   "cell_type": "markdown",
   "id": "fd5e6a4a-ef1c-4260-ad22-2b8a44a8a89e",
   "metadata": {},
   "source": [
    "# Load data "
   ]
  },
  {
   "cell_type": "code",
   "execution_count": 152,
   "id": "1a15bd4d-2624-4dbd-ac07-c34007a8bd93",
   "metadata": {},
   "outputs": [],
   "source": [
    "(X_train,Y_train),(X_test,Y_test) = load_data()"
   ]
  },
  {
   "cell_type": "code",
   "execution_count": 153,
   "id": "d2974f63-34a7-42bc-ba11-8b3c93b09737",
   "metadata": {},
   "outputs": [
    {
     "data": {
      "text/plain": [
       "60000"
      ]
     },
     "execution_count": 153,
     "metadata": {},
     "output_type": "execute_result"
    }
   ],
   "source": [
    "len(X_train)"
   ]
  },
  {
   "cell_type": "code",
   "execution_count": 154,
   "id": "8827687f-5d0d-4bc3-8541-bf47d3a4986b",
   "metadata": {},
   "outputs": [
    {
     "data": {
      "text/plain": [
       "10000"
      ]
     },
     "execution_count": 154,
     "metadata": {},
     "output_type": "execute_result"
    }
   ],
   "source": [
    "len(X_test)"
   ]
  },
  {
   "cell_type": "code",
   "execution_count": 156,
   "id": "d59f92e7-296a-4360-ab29-4f1dc7992521",
   "metadata": {},
   "outputs": [],
   "source": [
    "X_train, X_val, Y_train, Y_val = train_test_split(X_train,Y_train, test_size = 0.16666, random_state = 42)"
   ]
  },
  {
   "cell_type": "code",
   "execution_count": 157,
   "id": "c644bf15-a701-41ee-a893-8330113e76b3",
   "metadata": {},
   "outputs": [
    {
     "data": {
      "text/plain": [
       "50000"
      ]
     },
     "execution_count": 157,
     "metadata": {},
     "output_type": "execute_result"
    }
   ],
   "source": [
    "len(X_train)\n"
   ]
  },
  {
   "cell_type": "markdown",
   "id": "2d0ec9e8-c93c-44fa-99cd-74e718785a14",
   "metadata": {},
   "source": [
    "# Normalize train_x, test_x and validation_x"
   ]
  },
  {
   "cell_type": "code",
   "execution_count": 159,
   "id": "a61b7868-b0c0-4a3f-802d-607678d81670",
   "metadata": {},
   "outputs": [],
   "source": [
    "#Normalization\n",
    "\n"
   ]
  },
  {
   "cell_type": "code",
   "execution_count": 160,
   "id": "ec495588-2622-4f32-b11c-13a6da9c5b9a",
   "metadata": {},
   "outputs": [
    {
     "data": {
      "text/plain": [
       "(50000, 28, 28)"
      ]
     },
     "execution_count": 160,
     "metadata": {},
     "output_type": "execute_result"
    }
   ],
   "source": [
    "X_train.shape"
   ]
  },
  {
   "cell_type": "code",
   "execution_count": 11,
   "id": "25900efa-1b91-412c-985f-c28ffdaa0200",
   "metadata": {},
   "outputs": [],
   "source": [
    "#Convert (50000,28,28,1).   Reshaping the dataset in this way is done to match the expected input format \n",
    "#for convolutional neural networks (CNNs).\n",
    "#Adding the Channel Dimension: The original shape of each image in MNIST is (28, 28), \n",
    "#which is a 2D representation. However, CNNs expect a 3D input format, \n",
    "#including the height, width, and the number of channels. Since MNIST images are grayscale (not color), \n",
    "#there is only one channel. So, you reshape the images to (28, 28, 1)."
   ]
  },
  {
   "cell_type": "markdown",
   "id": "6fb3cf6d-22c8-4134-80d2-d2965b7c9118",
   "metadata": {},
   "source": [
    "# Reshape train_x, test_x and validation_x to match input format of CNN"
   ]
  },
  {
   "cell_type": "code",
   "execution_count": 161,
   "id": "762d4ddf-75e1-48ec-ad55-f2031a9eaeba",
   "metadata": {},
   "outputs": [],
   "source": [
    "X_train = X_train.reshape((X_train.shape[0],28,28,1))\n",
    "X_val   = X_val.reshape((X_val.shape[0],28,28,1))\n",
    "X_test  = X_test.reshape((X_test.shape[0],28,28,1))\n"
   ]
  },
  {
   "cell_type": "code",
   "execution_count": 162,
   "id": "eee5379d-66d1-4e6c-969d-8f10b1536a03",
   "metadata": {},
   "outputs": [
    {
     "data": {
      "text/plain": [
       "(50000, 28, 28, 1)"
      ]
     },
     "execution_count": 162,
     "metadata": {},
     "output_type": "execute_result"
    }
   ],
   "source": [
    "X_train.shape"
   ]
  },
  {
   "cell_type": "code",
   "execution_count": 163,
   "id": "6ff9bd97-60ec-4b81-a3d7-3abf7738d00a",
   "metadata": {},
   "outputs": [],
   "source": [
    "# Convert y to categorcal\n",
    "Y_train = to_categorical(Y_train,10)\n",
    "Y_test  = to_categorical(Y_test,10)\n",
    "Y_val   = to_categorical(Y_val,10)\n"
   ]
  },
  {
   "cell_type": "code",
   "execution_count": 164,
   "id": "f91a4322-42cf-41b2-8889-f665cae51b21",
   "metadata": {},
   "outputs": [],
   "source": [
    "# Sample Training Data\n",
    "# fig, axes = plt.subplots(3,3, figsize=(8,8))\n",
    "# fig.subplots_adjust(hspace = 0.5, wspace = 0.5)\n",
    "\n",
    "# for ax in axes.flatten():\n",
    "#     ax.axis('off')\n",
    "# for i, ax in enumerate(axes.flatten()):\n",
    "#     if i<9:\n",
    "#         ax.imshow(X_train[i],cmap = 'gray')\n",
    "#         ax.set_title(f'Label:{np.argmax(Y_train[i])}')\n",
    "#         ax.axis('off')\n",
    "\n",
    "def display_some_images(img_set,title_set):\n",
    "    for i in range (0,9):\n",
    "        plt.subplot(3,3,i+1)\n",
    "        plt.imshow(img_set[i],cmap = 'gray')\n",
    "        plt.title(f'Label: {np.argmax(title_set[i])}')\n",
    "\n",
    "    plt.tight_layout()\n",
    "    plt.show()\n",
    "\n",
    "\n",
    "        \n"
   ]
  },
  {
   "cell_type": "code",
   "execution_count": 165,
   "id": "198bd419-41e1-4873-b0e3-e0a5b5eaa6bf",
   "metadata": {},
   "outputs": [
    {
     "data": {
      "image/png": "[encoded data removed]",
      "text/plain": [
       "<Figure size 640x480 with 9 Axes>"
      ]
     },
     "metadata": {},
     "output_type": "display_data"
    }
   ],
   "source": [
    "display_some_images(X_val[:9],Y_val[:9])"
   ]
  },
  {
   "cell_type": "markdown",
   "id": "6d028a46-506d-45d9-9c91-d737156f2a17",
   "metadata": {},
   "source": [
    "# Define Model"
   ]
  },
  {
   "cell_type": "code",
   "execution_count": 166,
   "id": "a44bf9fb-4ea5-480e-961b-a2a3812b8dae",
   "metadata": {},
   "outputs": [],
   "source": [
    "def create_model():\n",
    "    inputs = Input(shape=(28,28,1))\n",
    "    x = Conv2D(filters = 32, kernel_size =(3,3), padding = \"same\", strides = (1,1), activation = \"relu\", name =\"Conv2D_1\")(inputs)\n",
    "    x = MaxPooling2D()(x)\n",
    "    x = Conv2D(filters =64, kernel_size = (3,3), padding = \"same\", strides = (1,1), activation = \"relu\", name = \"Conv2D_2\")(x)\n",
    "    x = MaxPooling2D()(x)\n",
    "    x = Flatten(name = \"Flatten_layer\")(x)\n",
    "    x = Dense(64, activation = \"relu\", name = \"Dense1\")(x)\n",
    "    outputs = Dense(10, activation = \"softmax\", name = \"output_layer\")(x)\n",
    "    model = Model(inputs, outputs)\n",
    "    return model\n",
    "    \n",
    "    "
   ]
  },
  {
   "cell_type": "code",
   "execution_count": 167,
   "id": "5e3dfaa3-d28d-4dc6-8ed7-acf8294af492",
   "metadata": {},
   "outputs": [
    {
     "name": "stdout",
     "output_type": "stream",
     "text": [
      "Model: \"model_4\"\n",
      "_________________________________________________________________\n",
      " Layer (type)                Output Shape              Param #   \n",
      "=================================================================\n",
      " input_6 (InputLayer)        [(None, 28, 28, 1)]       0         \n",
      "                                                                 \n",
      " Conv2D_1 (Conv2D)           (None, 28, 28, 32)        320       \n",
      "                                                                 \n",
      " max_pooling2d_10 (MaxPooli  (None, 14, 14, 32)        0         \n",
      " ng2D)                                                           \n",
      "                                                                 \n",
      " Conv2D_2 (Conv2D)           (None, 14, 14, 64)        18496     \n",
      "                                                                 \n",
      " max_pooling2d_11 (MaxPooli  (None, 7, 7, 64)          0         \n",
      " ng2D)                                                           \n",
      "                                                                 \n",
      " Flatten_layer (Flatten)     (None, 3136)              0         \n",
      "                                                                 \n",
      " Dense1 (Dense)              (None, 64)                200768    \n",
      "                                                                 \n",
      " output_layer (Dense)        (None, 10)                650       \n",
      "                                                                 \n",
      "=================================================================\n",
      "Total params: 220234 (860.29 KB)\n",
      "Trainable params: 220234 (860.29 KB)\n",
      "Non-trainable params: 0 (0.00 Byte)\n",
      "_________________________________________________________________\n"
     ]
    }
   ],
   "source": [
    "model =create_model()\n",
    "model.summary()"
   ]
  },
  {
   "cell_type": "markdown",
   "id": "09cee835-cd3b-4507-a0e9-453e89986837",
   "metadata": {},
   "source": [
    "# Compile and fit model"
   ]
  },
  {
   "cell_type": "code",
   "execution_count": 168,
   "id": "67ca0fad-fb05-498b-bceb-308f86e0b724",
   "metadata": {},
   "outputs": [],
   "source": [
    "model.compile(loss = 'categorical_crossentropy',optimizer ='adam',metrics =['accuracy'])"
   ]
  },
  {
   "cell_type": "code",
   "execution_count": 169,
   "id": "7d8bd5ee-8c35-4bc6-b2b9-dc9233275835",
   "metadata": {},
   "outputs": [
    {
     "name": "stdout",
     "output_type": "stream",
     "text": [
      "Epoch 1/10\n",
      "1563/1563 [==============================] - 37s 22ms/step - loss: 0.9238 - accuracy: 0.6999 - val_loss: 0.3902 - val_accuracy: 0.8806\n",
      "Epoch 2/10\n",
      "1563/1563 [==============================] - 35s 23ms/step - loss: 0.3614 - accuracy: 0.8921 - val_loss: 0.3155 - val_accuracy: 0.9055\n",
      "Epoch 3/10\n",
      "1563/1563 [==============================] - 38s 25ms/step - loss: 0.3051 - accuracy: 0.9080 - val_loss: 0.2688 - val_accuracy: 0.9188\n",
      "Epoch 4/10\n",
      "1563/1563 [==============================] - 36s 23ms/step - loss: 0.2626 - accuracy: 0.9212 - val_loss: 0.2287 - val_accuracy: 0.9294\n",
      "Epoch 5/10\n",
      "1563/1563 [==============================] - 70s 45ms/step - loss: 0.2241 - accuracy: 0.9323 - val_loss: 0.1952 - val_accuracy: 0.9414\n",
      "Epoch 6/10\n",
      "1563/1563 [==============================] - 45s 29ms/step - loss: 0.1893 - accuracy: 0.9428 - val_loss: 0.1683 - val_accuracy: 0.9481\n",
      "Epoch 7/10\n",
      "1563/1563 [==============================] - 49s 31ms/step - loss: 0.1578 - accuracy: 0.9518 - val_loss: 0.1456 - val_accuracy: 0.9542\n",
      "Epoch 8/10\n",
      "1563/1563 [==============================] - 47s 30ms/step - loss: 0.1325 - accuracy: 0.9593 - val_loss: 0.1277 - val_accuracy: 0.9609\n",
      "Epoch 9/10\n",
      "1563/1563 [==============================] - 34s 22ms/step - loss: 0.1149 - accuracy: 0.9646 - val_loss: 0.1091 - val_accuracy: 0.9672\n",
      "Epoch 10/10\n",
      "1563/1563 [==============================] - 33s 21ms/step - loss: 0.1030 - accuracy: 0.9682 - val_loss: 0.0961 - val_accuracy: 0.9713\n"
     ]
    }
   ],
   "source": [
    "history_1 = model.fit(X_train, Y_train, validation_data =(X_val,Y_val),epochs = 10)"
   ]
  },
  {
   "cell_type": "markdown",
   "id": "e310bf1f-972c-46e6-b3f2-331147e8f960",
   "metadata": {},
   "source": [
    "# Dataset augmentation"
   ]
  },
  {
   "cell_type": "code",
   "execution_count": 170,
   "id": "294eeace-65d7-4dbd-b26a-0916e9bfbe0a",
   "metadata": {},
   "outputs": [],
   "source": [
    "def augmentation(X,Y):\n",
    "    datagen = ImageDataGenerator(\n",
    "        rotation_range = 40,\n",
    "        shear_range = 0.2,\n",
    "        zoom_range = .2,\n",
    "        width_shift_range=0.15,\n",
    "        height_shift_range=0.15\n",
    "    )\n",
    "\n",
    "    augmented_images = []\n",
    "    augmented_labels = []\n",
    "\n",
    "    batch_size = len(X)\n",
    "    generator = datagen.flow(X,Y,batch_size = batch_size)\n",
    "    images ,labels = next(generator)\n",
    "    \n",
    "    augmented_images.extend(images)\n",
    "    augmented_labels.extend(labels)\n",
    "\n",
    "    augmented_images = np.array(augmented_images)\n",
    "    augmented_labels = np.array(augmented_labels)\n",
    "\n",
    "    \n",
    "    x_combined = np.concatenate((X,augmented_images))\n",
    "    y_combined = np.concatenate((Y,augmented_labels))\n",
    "    return (x_combined,y_combined)\n",
    "    \n",
    "    "
   ]
  },
  {
   "cell_type": "markdown",
   "id": "10de6f1f-f095-4870-a71e-77fd49101d37",
   "metadata": {},
   "source": [
    "# Augmented train_X, test_X, train_Y, test_Y"
   ]
  },
  {
   "cell_type": "code",
   "execution_count": 171,
   "id": "09354ee6-2085-4fe3-9274-9794a9bf87b2",
   "metadata": {},
   "outputs": [],
   "source": [
    "(x_train_augmented, y_train_augmented) = augmentation(X_train,Y_train)\n"
   ]
  },
  {
   "cell_type": "code",
   "execution_count": 176,
   "id": "746d62f0-44a5-4d7d-a20e-5ad95fe750ec",
   "metadata": {},
   "outputs": [],
   "source": [
    "(x_test_augmented, y_test_augmented) =augmentation(X_test,Y_test)\n"
   ]
  },
  {
   "cell_type": "code",
   "execution_count": 177,
   "id": "ac3e8a10-1469-4f22-a3a3-3966cc8336d2",
   "metadata": {},
   "outputs": [
    {
     "data": {
      "text/plain": [
       "20000"
      ]
     },
     "execution_count": 177,
     "metadata": {},
     "output_type": "execute_result"
    }
   ],
   "source": [
    "len(y_test_augmented)"
   ]
  },
  {
   "cell_type": "markdown",
   "id": "6ac54447-716e-4b97-b6da-bfea2ec6a2d2",
   "metadata": {},
   "source": [
    "# Create augmented model"
   ]
  },
  {
   "cell_type": "code",
   "execution_count": 178,
   "id": "19de150e-a9c1-450a-9101-0fde1975f767",
   "metadata": {},
   "outputs": [],
   "source": [
    "augmented_model = create_model()"
   ]
  },
  {
   "cell_type": "code",
   "execution_count": 179,
   "id": "3b39ea4b-1ea7-40aa-84dd-f47dd1bff1e4",
   "metadata": {},
   "outputs": [
    {
     "name": "stdout",
     "output_type": "stream",
     "text": [
      "Model: \"model_5\"\n",
      "_________________________________________________________________\n",
      " Layer (type)                Output Shape              Param #   \n",
      "=================================================================\n",
      " input_7 (InputLayer)        [(None, 28, 28, 1)]       0         \n",
      "                                                                 \n",
      " Conv2D_1 (Conv2D)           (None, 28, 28, 32)        320       \n",
      "                                                                 \n",
      " max_pooling2d_12 (MaxPooli  (None, 14, 14, 32)        0         \n",
      " ng2D)                                                           \n",
      "                                                                 \n",
      " Conv2D_2 (Conv2D)           (None, 14, 14, 64)        18496     \n",
      "                                                                 \n",
      " max_pooling2d_13 (MaxPooli  (None, 7, 7, 64)          0         \n",
      " ng2D)                                                           \n",
      "                                                                 \n",
      " Flatten_layer (Flatten)     (None, 3136)              0         \n",
      "                                                                 \n",
      " Dense1 (Dense)              (None, 64)                200768    \n",
      "                                                                 \n",
      " output_layer (Dense)        (None, 10)                650       \n",
      "                                                                 \n",
      "=================================================================\n",
      "Total params: 220234 (860.29 KB)\n",
      "Trainable params: 220234 (860.29 KB)\n",
      "Non-trainable params: 0 (0.00 Byte)\n",
      "_________________________________________________________________\n"
     ]
    }
   ],
   "source": [
    "augmented_model.summary()"
   ]
  },
  {
   "cell_type": "markdown",
   "id": "e488ab4c-564f-4c54-a9bc-0384eb4cb469",
   "metadata": {},
   "source": [
    "# Compile and fit Augmented Model"
   ]
  },
  {
   "cell_type": "code",
   "execution_count": 180,
   "id": "3fbcc75f-692e-48b5-a91f-61b4cc69efea",
   "metadata": {},
   "outputs": [],
   "source": [
    "augmented_model.compile(loss = 'categorical_crossentropy', optimizer ='adam', metrics = ['accuracy'])\n"
   ]
  },
  {
   "cell_type": "code",
   "execution_count": 181,
   "id": "b4964399-03be-4855-8790-99c3ccb2b4e2",
   "metadata": {},
   "outputs": [
    {
     "name": "stdout",
     "output_type": "stream",
     "text": [
      "Epoch 1/10\n",
      "3125/3125 [==============================] - 77s 23ms/step - loss: 1.8075 - accuracy: 0.3444 - val_loss: 0.5473 - val_accuracy: 0.8662\n",
      "Epoch 2/10\n",
      "3125/3125 [==============================] - 67s 21ms/step - loss: 0.8877 - accuracy: 0.7132 - val_loss: 0.2990 - val_accuracy: 0.9181\n",
      "Epoch 3/10\n",
      "3125/3125 [==============================] - 76s 24ms/step - loss: 0.6672 - accuracy: 0.7879 - val_loss: 0.2244 - val_accuracy: 0.9392\n",
      "Epoch 4/10\n",
      "3125/3125 [==============================] - 66s 21ms/step - loss: 0.5267 - accuracy: 0.8346 - val_loss: 0.1800 - val_accuracy: 0.9496\n",
      "Epoch 5/10\n",
      "3125/3125 [==============================] - 65s 21ms/step - loss: 0.4479 - accuracy: 0.8600 - val_loss: 0.1538 - val_accuracy: 0.9530\n",
      "Epoch 6/10\n",
      "3125/3125 [==============================] - 74s 24ms/step - loss: 0.3982 - accuracy: 0.8763 - val_loss: 0.1431 - val_accuracy: 0.9608\n",
      "Epoch 7/10\n",
      "3125/3125 [==============================] - 69s 22ms/step - loss: 0.3613 - accuracy: 0.8884 - val_loss: 0.1334 - val_accuracy: 0.9616\n",
      "Epoch 8/10\n",
      "3125/3125 [==============================] - 71s 23ms/step - loss: 0.3324 - accuracy: 0.8981 - val_loss: 0.1253 - val_accuracy: 0.9603\n",
      "Epoch 9/10\n",
      "3125/3125 [==============================] - 70s 22ms/step - loss: 0.3111 - accuracy: 0.9042 - val_loss: 0.1159 - val_accuracy: 0.9658\n",
      "Epoch 10/10\n",
      "3125/3125 [==============================] - 70s 22ms/step - loss: 0.2943 - accuracy: 0.9091 - val_loss: 0.1139 - val_accuracy: 0.9659\n"
     ]
    }
   ],
   "source": [
    "history2 = augmented_model.fit(x_train_augmented, y_train_augmented, validation_data =(X_val,Y_val), epochs = 10)"
   ]
  },
  {
   "cell_type": "markdown",
   "id": "74c9e923-ec58-422a-b936-01c65d00fbba",
   "metadata": {},
   "source": [
    "# test accuracy without augmentation and augmentation test set in both model"
   ]
  },
  {
   "cell_type": "markdown",
   "id": "3893fc07-ceaf-458d-8d4d-600d43019df9",
   "metadata": {},
   "source": [
    "print(\"test accuracy without augmented test data : \" model.evaluate(X_test,Y_test)\n"
   ]
  },
  {
   "cell_type": "code",
   "execution_count": 182,
   "id": "9b4b9cfd-3935-4de5-a5d6-759efd5174d4",
   "metadata": {},
   "outputs": [
    {
     "name": "stdout",
     "output_type": "stream",
     "text": [
      "313/313 [==============================] - 3s 8ms/step - loss: 0.0925 - accuracy: 0.9701\n",
      "625/625 [==============================] - 6s 9ms/step - loss: 1.7387 - accuracy: 0.7013\n"
     ]
    }
   ],
   "source": [
    "test_acc1 = model.evaluate(X_test, Y_test)\n",
    "test_acc2 = model.evaluate(x_test_augmented,y_test_augmented)"
   ]
  },
  {
   "cell_type": "code",
   "execution_count": 145,
   "id": "49ce4cbd-acc2-4fda-be06-6a12fc61821f",
   "metadata": {},
   "outputs": [
    {
     "data": {
      "text/plain": [
       "10000"
      ]
     },
     "execution_count": 145,
     "metadata": {},
     "output_type": "execute_result"
    }
   ],
   "source": [
    "len(X_test)"
   ]
  },
  {
   "cell_type": "code",
   "execution_count": 183,
   "id": "7d433877-26c8-4f86-87c5-447bebc7f185",
   "metadata": {},
   "outputs": [
    {
     "name": "stdout",
     "output_type": "stream",
     "text": [
      "313/313 [==============================] - 5s 14ms/step - loss: 0.1065 - accuracy: 0.9656\n",
      "625/625 [==============================] - 7s 11ms/step - loss: 0.2871 - accuracy: 0.9081\n"
     ]
    }
   ],
   "source": [
    "test_acc2 = augmented_model.evaluate(X_test,Y_test)\n",
    "test_acc3 = augmented_model.evaluate(x_test_augmented,y_test_augmented)\n"
   ]
  },
  {
   "cell_type": "markdown",
   "id": "67159c8d-5829-4818-9f6a-c803ec674c5c",
   "metadata": {},
   "source": [
    "# ploting training accuracy and validation accuracy  model_1( Original dataset)"
   ]
  },
  {
   "cell_type": "code",
   "execution_count": 184,
   "id": "36aed6cf-8d5a-47c3-81ab-3ca45a62bc92",
   "metadata": {},
   "outputs": [
    {
     "data": {
      "image/png": "[encoded data removed]",
      "text/plain": [
       "<Figure size 1200x400 with 2 Axes>"
      ]
     },
     "metadata": {},
     "output_type": "display_data"
    }
   ],
   "source": [
    "history = history_1.history\n",
    "plt.figure(figsize = (12,4))\n",
    "plt.subplot(1,2,1)\n",
    "plt.plot(history['accuracy'])\n",
    "plt.plot(history['val_accuracy'])\n",
    "plt.xlabel('Epochs')\n",
    "plt.ylabel('Accuracy')\n",
    "plt.legend(['train_accuracy','validation_accuracy'])\n",
    "\n",
    "plt.subplot(1,2,2)\n",
    "plt.plot(history['loss'])\n",
    "plt.plot(history['val_loss'])\n",
    "plt.legend(['training_loss','validation_loss'])\n",
    "plt.show()"
   ]
  },
  {
   "cell_type": "markdown",
   "id": "c86da9a0-c85b-448d-98c0-345cf5949b25",
   "metadata": {},
   "source": [
    "# ploting training loss and validation loss model 1 (original dataset)"
   ]
  },
  {
   "cell_type": "code",
   "execution_count": null,
   "id": "17e6ecbf-a338-4c94-8d9f-46ef7ef3dad9",
   "metadata": {},
   "outputs": [],
   "source": [
    "history = history2.history\n",
    "plt.figure(figsize = (12,4))\n",
    "plt.subplot(1,2,1)\n",
    "plt.plot(history['accuracy'])\n",
    "plt.plot(history['val_accuracy'])\n",
    "plt.xlabel('Epochs')\n",
    "plt.ylabel('Accuracy')\n",
    "plt.legend(['train_accuracy','validation_accuracy'])\n",
    "\n",
    "plt.subplot(1,2,2)\n",
    "plt.plot(history['loss'])\n",
    "plt.plot(history['val_loss'])\n",
    "plt.legend(['training_loss','validation_loss'])\n",
    "plt.show()"
   ]
  },
  {
   "cell_type": "code",
   "execution_count": null,
   "id": "ff50528e-ed1f-4854-807a-ff5560ffe3eb",
   "metadata": {},
   "outputs": [],
   "source": []
  }
 ],
 "metadata": {
  "kernelspec": {
   "display_name": "Python 3 (ipykernel)",
   "language": "python",
   "name": "python3"
  },
  "language_info": {
   "codemirror_mode": {
    "name": "ipython",
    "version": 3
   },
   "file_extension": ".py",
   "mimetype": "text/x-python",
   "name": "python",
   "nbconvert_exporter": "python",
   "pygments_lexer": "ipython3",
   "version": "3.11.8"
  }
 },
 "nbformat": 4,
 "nbformat_minor": 5
}
