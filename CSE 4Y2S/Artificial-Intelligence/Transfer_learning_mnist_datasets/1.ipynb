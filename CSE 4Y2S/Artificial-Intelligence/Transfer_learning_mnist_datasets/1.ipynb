{
 "cells": [
  {
   "cell_type": "code",
   "execution_count": 98,
   "id": "6ea3ba06-e0ee-4ee2-b6fd-6ce7a3716eb8",
   "metadata": {},
   "outputs": [],
   "source": [
    "import matplotlib.pyplot as plt\n",
    "import numpy as np\n",
    "import tensorflow as tf\n",
    "from tensorflow.keras import layers,Model\n"
   ]
  },
  {
   "cell_type": "markdown",
   "id": "4b4934f5-6ce8-4905-801f-0662751a8465",
   "metadata": {},
   "source": [
    "# Generate dataset"
   ]
  },
  {
   "cell_type": "code",
   "execution_count": 99,
   "id": "f075cab7-a12b-47fa-be5c-7d4c97b81644",
   "metadata": {},
   "outputs": [],
   "source": [
    "def generate_data(num_of_data):\n",
    "    X = np.random.randint(-15,15,size = num_of_data, dtype = int)\n",
    "    Y = 5*X**3 -8*X**2-7*X+1\n",
    "    return X,Y"
   ]
  },
  {
   "cell_type": "code",
   "execution_count": 100,
   "id": "bfbafa14-3941-4695-8925-af56b435bbb5",
   "metadata": {},
   "outputs": [],
   "source": [
    "x_data, y_data = generate_data(50000)"
   ]
  },
  {
   "cell_type": "code",
   "execution_count": 101,
   "id": "86f1d91a-413d-4836-a8dc-cd87c4125d20",
   "metadata": {},
   "outputs": [
    {
     "data": {
      "text/plain": [
       "array([  1,  -8, -14, ...,  -9,  11,   2])"
      ]
     },
     "execution_count": 101,
     "metadata": {},
     "output_type": "execute_result"
    }
   ],
   "source": [
    "x_data\n"
   ]
  },
  {
   "cell_type": "code",
   "execution_count": 102,
   "id": "d8f7e2ea-cb0e-47a1-8126-47357d0ed9ea",
   "metadata": {},
   "outputs": [],
   "source": [
    "x_data =2*(x_data-min(x_data))/(max(x_data)-min(x_data))-1\n",
    "y_data =2*(y_data-min(y_data))/(max(y_data)-min(y_data))-1"
   ]
  },
  {
   "cell_type": "code",
   "execution_count": 103,
   "id": "e53ec9e0-0134-4118-ba86-5ba7b7929e4d",
   "metadata": {},
   "outputs": [
    {
     "data": {
      "text/plain": [
       "array([ 0.10344828, -0.51724138, -0.93103448, ..., -0.5862069 ,\n",
       "        0.79310345,  0.17241379])"
      ]
     },
     "execution_count": 103,
     "metadata": {},
     "output_type": "execute_result"
    }
   ],
   "source": [
    "x_data\n",
    "\n"
   ]
  },
  {
   "cell_type": "code",
   "execution_count": 104,
   "id": "bd6c11f3-cf0d-4a3d-bd0a-d0097060d8b9",
   "metadata": {},
   "outputs": [
    {
     "data": {
      "text/plain": [
       "array([ 0.21212121,  0.0158046 , -0.7792581 , ..., -0.06347962,\n",
       "        0.57915361,  0.21238245])"
      ]
     },
     "execution_count": 104,
     "metadata": {},
     "output_type": "execute_result"
    }
   ],
   "source": [
    "y_data"
   ]
  },
  {
   "cell_type": "markdown",
   "id": "e92b5144-3e4b-45be-a5be-1a266059785e",
   "metadata": {},
   "source": [
    "# Split dataset into train test and validation"
   ]
  },
  {
   "cell_type": "code",
   "execution_count": 105,
   "id": "bde3e7ec-9d41-4d0a-b5b0-b122ff25fc0f",
   "metadata": {},
   "outputs": [],
   "source": [
    "train_x = x_data[:int(len(x_data)*.9)]\n",
    "train_y = y_data[:int(len(y_data)*.9)]\n",
    "\n",
    "val_x   = x_data[int(len(x_data)*.9):int(len(x_data)*.95)]\n",
    "val_y   = y_data[int(len(y_data)*.9):int(len(y_data)*.95)]\n",
    "\n",
    "test_x  = x_data[int(len(x_data)*.95):]\n",
    "test_y  = y_data[int(len(y_data)*.95):]\n"
   ]
  },
  {
   "cell_type": "code",
   "execution_count": 106,
   "id": "eb9dcaf4-9ad4-43de-afc3-bbef9f0cb06b",
   "metadata": {},
   "outputs": [
    {
     "data": {
      "text/plain": [
       "array([ 0.10344828, -0.51724138, -0.93103448, ..., -0.44827586,\n",
       "       -0.93103448, -0.31034483])"
      ]
     },
     "execution_count": 106,
     "metadata": {},
     "output_type": "execute_result"
    }
   ],
   "source": [
    "train_x"
   ]
  },
  {
   "cell_type": "code",
   "execution_count": 107,
   "id": "49fb8803-a657-4df4-b716-0176a2afced5",
   "metadata": {},
   "outputs": [
    {
     "data": {
      "text/plain": [
       "array([-0.79310345,  0.5862069 ,  0.24137931, ...,  0.65517241,\n",
       "       -1.        ,  0.51724138])"
      ]
     },
     "execution_count": 107,
     "metadata": {},
     "output_type": "execute_result"
    }
   ],
   "source": [
    "val_x\n"
   ]
  },
  {
   "cell_type": "code",
   "execution_count": 108,
   "id": "c8e88d11-c529-43bf-bd63-e17f45e4bbcc",
   "metadata": {},
   "outputs": [
    {
     "data": {
      "text/plain": [
       "array([-1.        , -0.93103448, -0.72413793, ..., -0.5862069 ,\n",
       "        0.79310345,  0.17241379])"
      ]
     },
     "execution_count": 108,
     "metadata": {},
     "output_type": "execute_result"
    }
   ],
   "source": [
    "test_x"
   ]
  },
  {
   "cell_type": "markdown",
   "id": "262b410e-ed79-433b-9a62-4ab3e57f1516",
   "metadata": {},
   "source": [
    "# Define Model architecture"
   ]
  },
  {
   "cell_type": "code",
   "execution_count": 109,
   "id": "28a65834-6914-48e5-9481-aac7b17d552e",
   "metadata": {},
   "outputs": [],
   "source": [
    "inputs = layers.Input(shape =(1))\n",
    "x      = layers.Dense(32, activation ='relu')(inputs)\n",
    "x      = layers.Dense(64, activation ='relu')(x)\n",
    "x      = layers.Dense(128, activation ='relu')(x)\n",
    "outputs = layers.Dense(1,activation='linear')(x)\n",
    "\n",
    "model  = Model(inputs = inputs, outputs = outputs)"
   ]
  },
  {
   "cell_type": "code",
   "execution_count": 110,
   "id": "f0c544a9-91f7-423a-98cb-b3e7b93e59d9",
   "metadata": {},
   "outputs": [
    {
     "name": "stdout",
     "output_type": "stream",
     "text": [
      "Model: \"model_5\"\n",
      "_________________________________________________________________\n",
      " Layer (type)                Output Shape              Param #   \n",
      "=================================================================\n",
      " input_7 (InputLayer)        [(None, 1)]               0         \n",
      "                                                                 \n",
      " dense_24 (Dense)            (None, 32)                64        \n",
      "                                                                 \n",
      " dense_25 (Dense)            (None, 64)                2112      \n",
      "                                                                 \n",
      " dense_26 (Dense)            (None, 128)               8320      \n",
      "                                                                 \n",
      " dense_27 (Dense)            (None, 1)                 129       \n",
      "                                                                 \n",
      "=================================================================\n",
      "Total params: 10625 (41.50 KB)\n",
      "Trainable params: 10625 (41.50 KB)\n",
      "Non-trainable params: 0 (0.00 Byte)\n",
      "_________________________________________________________________\n"
     ]
    }
   ],
   "source": [
    "model.summary()"
   ]
  },
  {
   "cell_type": "markdown",
   "id": "5c94d073-78f7-4762-bd3a-6eeb90b06ad9",
   "metadata": {},
   "source": [
    "# Compile and fit the model"
   ]
  },
  {
   "cell_type": "code",
   "execution_count": 111,
   "id": "9429a2f8-d031-4659-887a-63166ff18e31",
   "metadata": {},
   "outputs": [
    {
     "name": "stderr",
     "output_type": "stream",
     "text": [
      "WARNING:absl:`lr` is deprecated in Keras optimizer, please use `learning_rate` or use the legacy optimizer, e.g.,tf.keras.optimizers.legacy.Adam.\n"
     ]
    }
   ],
   "source": [
    "model.compile(optimizer = tf.keras.optimizers.Adam(lr = 1e-4),loss = \"mean_squared_error\", metrics=['mae'])"
   ]
  },
  {
   "cell_type": "code",
   "execution_count": null,
   "id": "3e5061be-44eb-4d8f-83a5-457e0cbfc5aa",
   "metadata": {},
   "outputs": [
    {
     "name": "stdout",
     "output_type": "stream",
     "text": [
      "Epoch 1/10\n",
      "1407/1407 [==============================] - 7s 4ms/step - loss: 0.0022 - mae: 0.0152 - val_loss: 4.9520e-06 - val_mae: 0.0015\n",
      "Epoch 2/10\n",
      "1407/1407 [==============================] - 5s 4ms/step - loss: 2.7918e-05 - mae: 0.0023 - val_loss: 2.5549e-06 - val_mae: 0.0012\n",
      "Epoch 3/10\n",
      "1407/1407 [==============================] - 5s 4ms/step - loss: 1.9923e-05 - mae: 0.0012 - val_loss: 5.3036e-04 - val_mae: 0.0199\n",
      "Epoch 4/10\n",
      "1407/1407 [==============================] - 5s 3ms/step - loss: 1.4514e-05 - mae: 0.0017 - val_loss: 1.0050e-07 - val_mae: 2.4220e-04\n",
      "Epoch 5/10\n",
      "1407/1407 [==============================] - 5s 4ms/step - loss: 4.4061e-05 - mae: 0.0024 - val_loss: 3.2466e-07 - val_mae: 3.7179e-04\n",
      "Epoch 6/10\n",
      "1407/1407 [==============================] - 5s 4ms/step - loss: 4.2808e-07 - mae: 2.3093e-04 - val_loss: 8.4648e-05 - val_mae: 0.0064\n",
      "Epoch 7/10\n",
      "1338/1407 [===========================>..] - ETA: 0s - loss: 2.1560e-05 - mae: 0.0019"
     ]
    }
   ],
   "source": [
    "model.fit(train_x, train_y, epochs = 10, validation_data =(val_x,val_y))"
   ]
  },
  {
   "cell_type": "code",
   "execution_count": null,
   "id": "d9bc12e1-cf12-4ee2-a8ea-dd5ccc792ca8",
   "metadata": {},
   "outputs": [],
   "source": []
  }
 ],
 "metadata": {
  "kernelspec": {
   "display_name": "Python 3 (ipykernel)",
   "language": "python",
   "name": "python3"
  },
  "language_info": {
   "codemirror_mode": {
    "name": "ipython",
    "version": 3
   },
   "file_extension": ".py",
   "mimetype": "text/x-python",
   "name": "python",
   "nbconvert_exporter": "python",
   "pygments_lexer": "ipython3",
   "version": "3.11.8"
  }
 },
 "nbformat": 4,
 "nbformat_minor": 5
}
