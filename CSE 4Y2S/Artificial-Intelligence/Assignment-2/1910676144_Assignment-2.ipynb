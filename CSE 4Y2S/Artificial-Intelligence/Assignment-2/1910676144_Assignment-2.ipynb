{
  "cells": [
    {
      "cell_type": "markdown",
      "metadata": {
        "id": "uIvsY06kgGVt"
      },
      "source": [
        "# 1. Build a CNN which exactly looks like VGG16. Transfer weights of pre-trained VGG16 to the newly built VGG16."
      ]
    },
    {
      "cell_type": "markdown",
      "metadata": {
        "id": "tXz-LnZSiscV"
      },
      "source": [
        "# import modules"
      ]
    },
    {
      "cell_type": "code",
      "execution_count": 40,
      "metadata": {
        "id": "bL2EGTPyi325"
      },
      "outputs": [],
      "source": [
        "import tensorflow as tf\n",
        "from tensorflow.keras import layers,Model\n",
        "from keras.applications.vgg16 import VGG16\n"
      ]
    },
    {
      "cell_type": "markdown",
      "metadata": {
        "id": "-ce2aStLjvfE"
      },
      "source": [
        "# VGG16 Architecture"
      ]
    },
    {
      "cell_type": "code",
      "execution_count": 41,
      "metadata": {
        "colab": {
          "base_uri": "https://localhost:8080/"
        },
        "id": "5B0B63iAkCbL",
        "outputId": "fbd7aaeb-d088-4437-cdcd-381216aee200"
      },
      "outputs": [
        {
          "output_type": "stream",
          "name": "stdout",
          "text": [
            "Model: \"vgg16\"\n",
            "_________________________________________________________________\n",
            " Layer (type)                Output Shape              Param #   \n",
            "=================================================================\n",
            " input_23 (InputLayer)       [(None, 224, 224, 3)]     0         \n",
            "                                                                 \n",
            " block1_conv1 (Conv2D)       (None, 224, 224, 64)      1792      \n",
            "                                                                 \n",
            " block1_conv2 (Conv2D)       (None, 224, 224, 64)      36928     \n",
            "                                                                 \n",
            " block1_pool (MaxPooling2D)  (None, 112, 112, 64)      0         \n",
            "                                                                 \n",
            " block2_conv1 (Conv2D)       (None, 112, 112, 128)     73856     \n",
            "                                                                 \n",
            " block2_conv2 (Conv2D)       (None, 112, 112, 128)     147584    \n",
            "                                                                 \n",
            " block2_pool (MaxPooling2D)  (None, 56, 56, 128)       0         \n",
            "                                                                 \n",
            " block3_conv1 (Conv2D)       (None, 56, 56, 256)       295168    \n",
            "                                                                 \n",
            " block3_conv2 (Conv2D)       (None, 56, 56, 256)       590080    \n",
            "                                                                 \n",
            " block3_conv3 (Conv2D)       (None, 56, 56, 256)       590080    \n",
            "                                                                 \n",
            " block3_pool (MaxPooling2D)  (None, 28, 28, 256)       0         \n",
            "                                                                 \n",
            " block4_conv1 (Conv2D)       (None, 28, 28, 512)       1180160   \n",
            "                                                                 \n",
            " block4_conv2 (Conv2D)       (None, 28, 28, 512)       2359808   \n",
            "                                                                 \n",
            " block4_conv3 (Conv2D)       (None, 28, 28, 512)       2359808   \n",
            "                                                                 \n",
            " block4_pool (MaxPooling2D)  (None, 14, 14, 512)       0         \n",
            "                                                                 \n",
            " block5_conv1 (Conv2D)       (None, 14, 14, 512)       2359808   \n",
            "                                                                 \n",
            " block5_conv2 (Conv2D)       (None, 14, 14, 512)       2359808   \n",
            "                                                                 \n",
            " block5_conv3 (Conv2D)       (None, 14, 14, 512)       2359808   \n",
            "                                                                 \n",
            " block5_pool (MaxPooling2D)  (None, 7, 7, 512)         0         \n",
            "                                                                 \n",
            " flatten (Flatten)           (None, 25088)             0         \n",
            "                                                                 \n",
            " fc1 (Dense)                 (None, 4096)              102764544 \n",
            "                                                                 \n",
            " fc2 (Dense)                 (None, 4096)              16781312  \n",
            "                                                                 \n",
            " predictions (Dense)         (None, 1000)              4097000   \n",
            "                                                                 \n",
            "=================================================================\n",
            "Total params: 138357544 (527.79 MB)\n",
            "Trainable params: 138357544 (527.79 MB)\n",
            "Non-trainable params: 0 (0.00 Byte)\n",
            "_________________________________________________________________\n"
          ]
        }
      ],
      "source": [
        "vgg16 = VGG16()\n",
        "vgg16.summary()"
      ]
    },
    {
      "cell_type": "markdown",
      "metadata": {
        "id": "J-3x6z9jkUnt"
      },
      "source": [
        "# Design a CNN looks like vgg16\n"
      ]
    },
    {
      "cell_type": "code",
      "execution_count": 42,
      "metadata": {
        "id": "VGSDlKaLkTku"
      },
      "outputs": [],
      "source": [
        "inputs = layers.Input(shape = (224,224,3))\n",
        "\n",
        "x = layers.Conv2D(filters = 64, kernel_size = (3,3), padding = 'same', activation = 'relu')(inputs)\n",
        "x = layers.Conv2D(filters = 64, kernel_size = (3,3), padding = 'same', activation = 'relu')(x)\n",
        "x = layers.MaxPooling2D()(x)\n",
        "\n",
        "x = layers.Conv2D(filters = 128, kernel_size = (3,3), padding = 'same', activation = 'relu')(x)\n",
        "x = layers.Conv2D(filters = 128, kernel_size = (3,3), padding = 'same', activation = 'relu')(x)\n",
        "x = layers.MaxPooling2D()(x)\n",
        "\n",
        "x = layers.Conv2D(filters = 256, kernel_size = (3,3), padding = 'same', activation = 'relu')(x)\n",
        "x = layers.Conv2D(filters = 256, kernel_size = (3,3), padding = 'same', activation = 'relu')(x)\n",
        "x = layers.Conv2D(filters = 256, kernel_size = (3,3), padding = 'same', activation = 'relu')(x)\n",
        "x = layers.MaxPooling2D()(x)\n",
        "\n",
        "\n",
        "x = layers.Conv2D(filters = 512, kernel_size = (3,3), padding = 'same', activation = 'relu')(x)\n",
        "x = layers.Conv2D(filters = 512, kernel_size = (3,3), padding = 'same', activation = 'relu')(x)\n",
        "x = layers.Conv2D(filters = 512, kernel_size = (3,3), padding = 'same', activation = 'relu')(x)\n",
        "x = layers.MaxPool2D()(x)\n",
        "\n",
        "x = layers.Conv2D(filters = 512, kernel_size = (3,3), padding = 'same', activation = 'relu')(x)\n",
        "x = layers.Conv2D(filters = 512, kernel_size = (3,3), padding = 'same', activation = 'relu')(x)\n",
        "x = layers.Conv2D(filters = 512, kernel_size = (3,3), padding = 'same', activation = 'relu')(x)\n",
        "x = layers.MaxPooling2D()(x)\n",
        "\n",
        "x = layers.Flatten()(x)\n",
        "x = layers.Dense(4096, activation = 'relu')(x)\n",
        "x = layers.Dense(4096, activation = 'relu')(x)\n",
        "\n",
        "outputs = layers.Dense(1000, activation = 'softmax')(x)\n",
        "\n",
        "custom_vgg16 = Model(inputs, outputs, name = 'custom_model')"
      ]
    },
    {
      "cell_type": "code",
      "execution_count": 43,
      "metadata": {
        "colab": {
          "base_uri": "https://localhost:8080/"
        },
        "id": "0seZCVaToZAV",
        "outputId": "abe248d5-a8b5-4be3-d7f8-0ca9c5e51920"
      },
      "outputs": [
        {
          "output_type": "stream",
          "name": "stdout",
          "text": [
            "Model: \"custom_model\"\n",
            "_________________________________________________________________\n",
            " Layer (type)                Output Shape              Param #   \n",
            "=================================================================\n",
            " input_24 (InputLayer)       [(None, 224, 224, 3)]     0         \n",
            "                                                                 \n",
            " conv2d_159 (Conv2D)         (None, 224, 224, 64)      1792      \n",
            "                                                                 \n",
            " conv2d_160 (Conv2D)         (None, 224, 224, 64)      36928     \n",
            "                                                                 \n",
            " max_pooling2d_69 (MaxPooli  (None, 112, 112, 64)      0         \n",
            " ng2D)                                                           \n",
            "                                                                 \n",
            " conv2d_161 (Conv2D)         (None, 112, 112, 128)     73856     \n",
            "                                                                 \n",
            " conv2d_162 (Conv2D)         (None, 112, 112, 128)     147584    \n",
            "                                                                 \n",
            " max_pooling2d_70 (MaxPooli  (None, 56, 56, 128)       0         \n",
            " ng2D)                                                           \n",
            "                                                                 \n",
            " conv2d_163 (Conv2D)         (None, 56, 56, 256)       295168    \n",
            "                                                                 \n",
            " conv2d_164 (Conv2D)         (None, 56, 56, 256)       590080    \n",
            "                                                                 \n",
            " conv2d_165 (Conv2D)         (None, 56, 56, 256)       590080    \n",
            "                                                                 \n",
            " max_pooling2d_71 (MaxPooli  (None, 28, 28, 256)       0         \n",
            " ng2D)                                                           \n",
            "                                                                 \n",
            " conv2d_166 (Conv2D)         (None, 28, 28, 512)       1180160   \n",
            "                                                                 \n",
            " conv2d_167 (Conv2D)         (None, 28, 28, 512)       2359808   \n",
            "                                                                 \n",
            " conv2d_168 (Conv2D)         (None, 28, 28, 512)       2359808   \n",
            "                                                                 \n",
            " max_pooling2d_72 (MaxPooli  (None, 14, 14, 512)       0         \n",
            " ng2D)                                                           \n",
            "                                                                 \n",
            " conv2d_169 (Conv2D)         (None, 14, 14, 512)       2359808   \n",
            "                                                                 \n",
            " conv2d_170 (Conv2D)         (None, 14, 14, 512)       2359808   \n",
            "                                                                 \n",
            " conv2d_171 (Conv2D)         (None, 14, 14, 512)       2359808   \n",
            "                                                                 \n",
            " max_pooling2d_73 (MaxPooli  (None, 7, 7, 512)         0         \n",
            " ng2D)                                                           \n",
            "                                                                 \n",
            " flatten_13 (Flatten)        (None, 25088)             0         \n",
            "                                                                 \n",
            " dense_34 (Dense)            (None, 4096)              102764544 \n",
            "                                                                 \n",
            " dense_35 (Dense)            (None, 4096)              16781312  \n",
            "                                                                 \n",
            " dense_36 (Dense)            (None, 1000)              4097000   \n",
            "                                                                 \n",
            "=================================================================\n",
            "Total params: 138357544 (527.79 MB)\n",
            "Trainable params: 138357544 (527.79 MB)\n",
            "Non-trainable params: 0 (0.00 Byte)\n",
            "_________________________________________________________________\n"
          ]
        }
      ],
      "source": [
        "custom_vgg16.summary()"
      ]
    },
    {
      "cell_type": "markdown",
      "metadata": {
        "id": "cVFBFQeWomti"
      },
      "source": [
        "# transfer weights of pre-trained VGG16 to the newly built custom_vgg16\n"
      ]
    },
    {
      "cell_type": "code",
      "execution_count": 44,
      "metadata": {
        "id": "b-gM0Tw5o-96"
      },
      "outputs": [],
      "source": [
        "for i in range(len(vgg16.layers)):\n",
        "\t\tcustom_vgg16.layers[i].set_weights(vgg16.layers[i].get_weights())"
      ]
    },
    {
      "cell_type": "markdown",
      "metadata": {
        "id": "XnhvRqZEgbf5"
      },
      "source": [
        "#  2.Build a CNN which will look like VGG16, but will not be exactly VGG16"
      ]
    },
    {
      "cell_type": "code",
      "execution_count": 45,
      "metadata": {
        "id": "Ff35d19Dgk_m"
      },
      "outputs": [],
      "source": [
        "inputs = layers.Input(shape = (32,32,3))\n",
        "\n",
        "x = layers.Conv2D(filters = 32, kernel_size = (3,3), padding = 'same', activation = 'relu')(inputs)\n",
        "x = layers.Conv2D(filters = 32, kernel_size = (3,3), padding = 'same', activation = 'relu')(x)\n",
        "x = layers.MaxPool2D()(x)\n",
        "\n",
        "x = layers.Conv2D(filters = 64, kernel_size = (3,3), padding = 'same', activation = 'relu')(x)\n",
        "x = layers.Conv2D(filters = 64, kernel_size = (3,3), padding = 'same', activation = 'relu')(x)\n",
        "x = layers.MaxPool2D()(x)\n",
        "\n",
        "x = layers.Conv2D(filters = 128, kernel_size = (3,3), padding = 'same', activation = 'relu')(x)\n",
        "x = layers.Conv2D(filters = 128, kernel_size = (3,3), padding = 'same', activation = 'relu')(x)\n",
        "x = layers.Conv2D(filters = 128, kernel_size = (3,3), padding = 'same', activation = 'relu')(x)\n",
        "x = layers.MaxPool2D()(x)\n",
        "\n",
        "x = layers.Conv2D(filters = 256, kernel_size = (3,3), padding = 'same', activation = 'relu')(x)\n",
        "x = layers.Conv2D(filters = 256, kernel_size = (3,3), padding = 'same', activation = 'relu')(x)\n",
        "x = layers.Conv2D(filters = 256, kernel_size = (3,3), padding = 'same', activation = 'relu')(x)\n",
        "x = layers.MaxPool2D()(x)\n",
        "\n",
        "x = layers.Conv2D(filters = 256, kernel_size = (3,3), padding = 'same', activation = 'relu')(x)\n",
        "x = layers.Conv2D(filters = 256, kernel_size = (3,3), padding = 'same', activation = 'relu')(x)\n",
        "x = layers.Conv2D(filters = 256, kernel_size = (3,3), padding = 'same', activation = 'relu')(x)\n",
        "x = layers.MaxPool2D()(x)\n",
        "\n",
        "x = layers.Flatten()(x)\n",
        "x = layers.Dense(512, activation = 'relu')(x)\n",
        "x = layers.Dense(512, activation = 'relu')(x)\n",
        "\n",
        "outputs = layers.Dense(10, activation = 'softmax', name = 'output_layer')(x)\n",
        "\n",
        "cnn_model = Model(inputs, outputs, name = 'CNN_MODEL')\n"
      ]
    },
    {
      "cell_type": "code",
      "execution_count": 46,
      "metadata": {
        "colab": {
          "base_uri": "https://localhost:8080/"
        },
        "id": "h3sNkCvPpPby",
        "outputId": "17f8685f-e232-42fb-dc37-d64477543a67"
      },
      "outputs": [
        {
          "output_type": "stream",
          "name": "stdout",
          "text": [
            "Model: \"CNN_MODEL\"\n",
            "_________________________________________________________________\n",
            " Layer (type)                Output Shape              Param #   \n",
            "=================================================================\n",
            " input_25 (InputLayer)       [(None, 32, 32, 3)]       0         \n",
            "                                                                 \n",
            " conv2d_172 (Conv2D)         (None, 32, 32, 32)        896       \n",
            "                                                                 \n",
            " conv2d_173 (Conv2D)         (None, 32, 32, 32)        9248      \n",
            "                                                                 \n",
            " max_pooling2d_74 (MaxPooli  (None, 16, 16, 32)        0         \n",
            " ng2D)                                                           \n",
            "                                                                 \n",
            " conv2d_174 (Conv2D)         (None, 16, 16, 64)        18496     \n",
            "                                                                 \n",
            " conv2d_175 (Conv2D)         (None, 16, 16, 64)        36928     \n",
            "                                                                 \n",
            " max_pooling2d_75 (MaxPooli  (None, 8, 8, 64)          0         \n",
            " ng2D)                                                           \n",
            "                                                                 \n",
            " conv2d_176 (Conv2D)         (None, 8, 8, 128)         73856     \n",
            "                                                                 \n",
            " conv2d_177 (Conv2D)         (None, 8, 8, 128)         147584    \n",
            "                                                                 \n",
            " conv2d_178 (Conv2D)         (None, 8, 8, 128)         147584    \n",
            "                                                                 \n",
            " max_pooling2d_76 (MaxPooli  (None, 4, 4, 128)         0         \n",
            " ng2D)                                                           \n",
            "                                                                 \n",
            " conv2d_179 (Conv2D)         (None, 4, 4, 256)         295168    \n",
            "                                                                 \n",
            " conv2d_180 (Conv2D)         (None, 4, 4, 256)         590080    \n",
            "                                                                 \n",
            " conv2d_181 (Conv2D)         (None, 4, 4, 256)         590080    \n",
            "                                                                 \n",
            " max_pooling2d_77 (MaxPooli  (None, 2, 2, 256)         0         \n",
            " ng2D)                                                           \n",
            "                                                                 \n",
            " conv2d_182 (Conv2D)         (None, 2, 2, 256)         590080    \n",
            "                                                                 \n",
            " conv2d_183 (Conv2D)         (None, 2, 2, 256)         590080    \n",
            "                                                                 \n",
            " conv2d_184 (Conv2D)         (None, 2, 2, 256)         590080    \n",
            "                                                                 \n",
            " max_pooling2d_78 (MaxPooli  (None, 1, 1, 256)         0         \n",
            " ng2D)                                                           \n",
            "                                                                 \n",
            " flatten_14 (Flatten)        (None, 256)               0         \n",
            "                                                                 \n",
            " dense_37 (Dense)            (None, 512)               131584    \n",
            "                                                                 \n",
            " dense_38 (Dense)            (None, 512)               262656    \n",
            "                                                                 \n",
            " output_layer (Dense)        (None, 10)                5130      \n",
            "                                                                 \n",
            "=================================================================\n",
            "Total params: 4079530 (15.56 MB)\n",
            "Trainable params: 4079530 (15.56 MB)\n",
            "Non-trainable params: 0 (0.00 Byte)\n",
            "_________________________________________________________________\n"
          ]
        }
      ],
      "source": [
        "cnn_model.summary()"
      ]
    }
  ],
  "metadata": {
    "accelerator": "GPU",
    "colab": {
      "gpuType": "T4",
      "provenance": []
    },
    "kernelspec": {
      "display_name": "Python 3",
      "name": "python3"
    },
    "language_info": {
      "name": "python"
    }
  },
  "nbformat": 4,
  "nbformat_minor": 0
}